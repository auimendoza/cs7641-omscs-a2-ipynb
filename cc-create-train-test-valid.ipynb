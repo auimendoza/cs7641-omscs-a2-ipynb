{
 "cells": [
  {
   "cell_type": "code",
   "execution_count": 1,
   "metadata": {},
   "outputs": [],
   "source": [
    "import numpy as np\n",
    "import pandas as pd"
   ]
  },
  {
   "cell_type": "code",
   "execution_count": 2,
   "metadata": {},
   "outputs": [
    {
     "name": "stdout",
     "output_type": "stream",
     "text": [
      "\n",
      "Reading file...\n",
      "fraudlent transactions count = 492\n",
      "normal transactions count = 284315\n",
      "percentage of fraudulent transactions 0.173%\n",
      "\n",
      "Upsampling data...\n",
      "upsample size = 9840\n",
      "Index([u'Time', u'V1', u'V2', u'V3', u'V4', u'V5', u'V6', u'V7', u'V8', u'V9',\n",
      "       u'V10', u'V11', u'V12', u'V13', u'V14', u'V15', u'V16', u'V17', u'V18',\n",
      "       u'V19', u'V20', u'V21', u'V22', u'V23', u'V24', u'V25', u'V26', u'V27',\n",
      "       u'V28', u'Amount'],\n",
      "      dtype='object')\n",
      "feature columns count: 30\n"
     ]
    }
   ],
   "source": [
    "print\n",
    "print('Reading file...')\n",
    "ccdata = pd.read_csv('creditcard.csv')\n",
    "\n",
    "fraudtr = ccdata.loc[ccdata['Class'] == 1,:]\n",
    "normaltr = ccdata.loc[ccdata['Class'] == 0,:]\n",
    "fraudcnt = fraudtr.shape[0]\n",
    "normalcnt = normaltr.shape[0]\n",
    "print('fraudlent transactions count = {}'.format(fraudcnt))\n",
    "print('normal transactions count = {}'.format(normalcnt))\n",
    "print('percentage of fraudulent transactions {:.3f}%'.format(fraudcnt*100./(normalcnt+fraudcnt)))\n",
    "\n",
    "seed=0\n",
    "\n",
    "print\n",
    "print('Upsampling data...')\n",
    "upsample_total = int(fraudcnt/0.05)\n",
    "normal_count = upsample_total-fraudcnt\n",
    "normal_data = normaltr.sample(n=normal_count, random_state=seed)\n",
    "upsample_data = pd.concat([fraudtr, normal_data])\n",
    "print('upsample size = {}'.format(upsample_total))\n",
    "\n",
    "seed = 0\n",
    "feature_columns = ccdata.columns[:-1]\n",
    "print(feature_columns)\n",
    "print('feature columns count: {}'.format(len(feature_columns)))"
   ]
  },
  {
   "cell_type": "code",
   "execution_count": 15,
   "metadata": {},
   "outputs": [
    {
     "name": "stdout",
     "output_type": "stream",
     "text": [
      "\n",
      "Splitting data...\n",
      "dataset size 1: 9840, %fraud: 5.000\n"
     ]
    }
   ],
   "source": [
    "    from sklearn.model_selection import train_test_split\n",
    "    from sklearn.preprocessing import MinMaxScaler\n",
    "    print\n",
    "    print('Splitting data...')\n",
    "    splitdata = []\n",
    "    Xy = upsample_data\n",
    "    print('dataset size {}: {}, %fraud: {:.3f}'.format(len(splitdata)+1, Xy.shape[0],Xy['Class'].value_counts(sort=True).map(lambda x: x*100./Xy.shape[0])[1]))\n",
    "    X = Xy.loc[:, feature_columns]\n",
    "    y = Xy.loc[:,['Class']]\n",
    "    scaler = MinMaxScaler(feature_range=(0,1))\n",
    "    X_scaled = scaler.fit_transform(X)\n",
    "    X_valtr, X_test, y_valtr, y_test = train_test_split(X_scaled, y, stratify=y, random_state=seed)\n",
    "    X_train, X_valid, y_train, y_valid = train_test_split(X_valtr, y_valtr, stratify=y_valtr, random_state=seed)\n",
    "    splitdata.append({\n",
    "        'X_train': X_train,\n",
    "        'y_train': y_train,\n",
    "        'X_valid': X_valid,\n",
    "        'y_valid': y_valid,\n",
    "        'X_test': X_test,\n",
    "        'y_test': y_test\n",
    "    })"
   ]
  },
  {
   "cell_type": "code",
   "execution_count": 16,
   "metadata": {},
   "outputs": [
    {
     "name": "stdout",
     "output_type": "stream",
     "text": [
      "X_test (2460, 30)\n",
      "X_train (5535, 30)\n",
      "X_valid (1845, 30)\n",
      "y_valid (1845, 1)\n",
      "y_train (5535, 1)\n",
      "y_test (2460, 1)\n"
     ]
    }
   ],
   "source": [
    "for key in splitdata[0].keys():\n",
    "    print key, splitdata[0][key].shape"
   ]
  },
  {
   "cell_type": "code",
   "execution_count": 20,
   "metadata": {},
   "outputs": [],
   "source": [
    "for i in ['test', 'train', 'valid']:\n",
    "    np.savetxt('ccX'+ i + '.csv', splitdata[0]['X_'+i], fmt='%.10f', delimiter=',')\n",
    "    np.savetxt('ccy'+ i + '.csv', splitdata[0]['y_'+i], fmt='%d', delimiter=',')"
   ]
  },
  {
   "cell_type": "code",
   "execution_count": 21,
   "metadata": {},
   "outputs": [
    {
     "data": {
      "text/html": [
       "<div>\n",
       "<style scoped>\n",
       "    .dataframe tbody tr th:only-of-type {\n",
       "        vertical-align: middle;\n",
       "    }\n",
       "\n",
       "    .dataframe tbody tr th {\n",
       "        vertical-align: top;\n",
       "    }\n",
       "\n",
       "    .dataframe thead th {\n",
       "        text-align: right;\n",
       "    }\n",
       "</style>\n",
       "<table border=\"1\" class=\"dataframe\">\n",
       "  <thead>\n",
       "    <tr style=\"text-align: right;\">\n",
       "      <th></th>\n",
       "      <th>Class</th>\n",
       "    </tr>\n",
       "  </thead>\n",
       "  <tbody>\n",
       "    <tr>\n",
       "      <th>11710</th>\n",
       "      <td>1</td>\n",
       "    </tr>\n",
       "    <tr>\n",
       "      <th>120687</th>\n",
       "      <td>0</td>\n",
       "    </tr>\n",
       "    <tr>\n",
       "      <th>61627</th>\n",
       "      <td>0</td>\n",
       "    </tr>\n",
       "    <tr>\n",
       "      <th>197517</th>\n",
       "      <td>0</td>\n",
       "    </tr>\n",
       "    <tr>\n",
       "      <th>147780</th>\n",
       "      <td>0</td>\n",
       "    </tr>\n",
       "  </tbody>\n",
       "</table>\n",
       "</div>"
      ],
      "text/plain": [
       "        Class\n",
       "11710       1\n",
       "120687      0\n",
       "61627       0\n",
       "197517      0\n",
       "147780      0"
      ]
     },
     "execution_count": 21,
     "metadata": {},
     "output_type": "execute_result"
    }
   ],
   "source": [
    "y_test.head()"
   ]
  },
  {
   "cell_type": "markdown",
   "metadata": {},
   "source": [
    "On bash\n",
    "```\n",
    "$ for i in test train valid\n",
    "do  \n",
    "paste -d\",\" ccX$i.csv ccy$i.csv > cc$i.csv\n",
    "done\n",
    "```"
   ]
  },
  {
   "cell_type": "code",
   "execution_count": null,
   "metadata": {},
   "outputs": [],
   "source": []
  }
 ],
 "metadata": {
  "kernelspec": {
   "display_name": "Python 2",
   "language": "python",
   "name": "python2"
  },
  "language_info": {
   "codemirror_mode": {
    "name": "ipython",
    "version": 2
   },
   "file_extension": ".py",
   "mimetype": "text/x-python",
   "name": "python",
   "nbconvert_exporter": "python",
   "pygments_lexer": "ipython2",
   "version": "2.7.15"
  }
 },
 "nbformat": 4,
 "nbformat_minor": 2
}
