{
 "cells": [
  {
   "cell_type": "code",
   "execution_count": 1,
   "metadata": {},
   "outputs": [],
   "source": [
    "import pandas as pd\n",
    "import numpy as np\n",
    "import matplotlib.pyplot as plt\n",
    "%matplotlib inline  "
   ]
  },
  {
   "cell_type": "markdown",
   "metadata": {},
   "source": [
    "### traveling salesman"
   ]
  },
  {
   "cell_type": "code",
   "execution_count": 2,
   "metadata": {},
   "outputs": [],
   "source": [
    "opt = 'GA'\n",
    "p=2000\n",
    "ma=1000\n",
    "mu=200\n",
    "cpfile = 'tsp/tsp-%s-%d-%d-%d.csv' % (opt, p, ma, mu)\n",
    "ga = pd.read_csv(cpfile, names=[\"i\", \"score\", \"elapsed\"])\n",
    "ga[\"p\"] = p\n",
    "ga[\"ma\"] = ma\n",
    "ga[\"mu\"] = mu\n",
    "ga[\"params\"] = \"pop=%d, mate=%d, mutate=%d\" % (p, ma, mu)\n",
    "ga[\"opt\"] = opt"
   ]
  },
  {
   "cell_type": "code",
   "execution_count": 3,
   "metadata": {},
   "outputs": [],
   "source": [
    "opt = 'MMC'\n",
    "s=500\n",
    "k=50\n",
    "cpfile = 'tsp/tsp-%s-%d-%d.csv' % (opt, s, k)\n",
    "mmc = pd.read_csv(cpfile, names=[\"i\", \"score\", \"elapsed\"])\n",
    "mmc[\"samples\"] = s\n",
    "mmc[\"tokeep\"] = k\n",
    "mmc[\"params\"] = \"samples=%d, tokeep=%d\" % (s, k)\n",
    "mmc[\"opt\"] = \"MIMIC\""
   ]
  },
  {
   "cell_type": "code",
   "execution_count": 4,
   "metadata": {},
   "outputs": [],
   "source": [
    "opt = 'RHC'\n",
    "i=10000\n",
    "t=1\n",
    "cpfile = 'tsp/tsp-%s-%d-%d.csv' % (opt, i, t)\n",
    "rhc = pd.read_csv(cpfile, names=[\"i\", \"score\", \"elapsed\"])\n",
    "rhc[\"iterations\"] = i\n",
    "rhc[\"try\"] = t\n",
    "rhc[\"params\"] = \"iterations=%d, try=%d\" % (i, t)\n",
    "rhc[\"opt\"] = opt"
   ]
  },
  {
   "cell_type": "code",
   "execution_count": 5,
   "metadata": {},
   "outputs": [],
   "source": [
    "opt = 'SA'\n",
    "t=\"1E10\"\n",
    "c=\"0.55\"\n",
    "cpfile = 'tsp/tsp-%s-%s-%s.csv' % (opt, t, c)\n",
    "sa = pd.read_csv(cpfile, names=[\"i\", \"score\", \"elapsed\"])\n",
    "sa[\"t\"] = t\n",
    "sa[\"cooling\"] = c\n",
    "sa[\"params\"] = \"t=%s, cooling=%s\" % (t, c)\n",
    "sa[\"opt\"] = opt"
   ]
  },
  {
   "cell_type": "code",
   "execution_count": 6,
   "metadata": {},
   "outputs": [],
   "source": [
    "cp = pd.DataFrame()\n",
    "opt = 'SA'\n",
    "for t in [\"1E10\"]:\n",
    "    #for ma in [1000, 500]:\n",
    "        for c in [\"0.15\", \"0.35\", \"0.55\", \"0.75\", \"0.95\"]:\n",
    "            cpfile = 'tsp/tsp-%s-%s-%s.csv' % (opt, t, c)\n",
    "            tmp = pd.read_csv(cpfile, names=[\"i\", \"score\", \"elapsed\"])\n",
    "            #tmp[\"p\"] = p\n",
    "            tmp[\"t\"] = t\n",
    "            tmp[\"c\"] = c\n",
    "            tmp[\"params\"] = \"t=%s, c=%s\" % (t, c)\n",
    "            if cp.shape[0] == 0:\n",
    "                cp = tmp.copy(deep=True)\n",
    "            else:\n",
    "                cp = cp.append(tmp)"
   ]
  },
  {
   "cell_type": "code",
   "execution_count": 7,
   "metadata": {},
   "outputs": [
    {
     "data": {
      "text/plain": [
       "params\n",
       "t=1E10, c=0.55    2\n",
       "dtype: int64"
      ]
     },
     "execution_count": 7,
     "metadata": {},
     "output_type": "execute_result"
    }
   ],
   "source": [
    "cp.loc[cp[\"score\"] == cp[\"score\"].max(),[\"params\"]].groupby([\"params\"]).size()"
   ]
  },
  {
   "cell_type": "code",
   "execution_count": 8,
   "metadata": {},
   "outputs": [
    {
     "data": {
      "image/png": "[encoded data removed]",
      "text/plain": [
       "<Figure size 432x288 with 1 Axes>"
      ]
     },
     "metadata": {
      "needs_background": "light"
     },
     "output_type": "display_data"
    }
   ],
   "source": [
    "legend = []\n",
    "for out in [ga, mmc, rhc, sa]:\n",
    "    ind = np.array(range(100)) % 10 == 0\n",
    "    x = out.iloc[ind,0]\n",
    "    y = out.iloc[ind,1]\n",
    "    plt.plot(x, y, '.-')\n",
    "    legend.append(out.iloc[0,-1])\n",
    "\n",
    "plt.legend(legend, loc=\"best\")\n",
    "plt.ylabel('score')\n",
    "plt.xlabel('iteration')\n",
    "plt.title('traveling salesman problem: performance')\n",
    "plt.gcf()\n",
    "plt.savefig('tspscore.png')\n",
    "plt.show()"
   ]
  },
  {
   "cell_type": "code",
   "execution_count": 29,
   "metadata": {},
   "outputs": [
    {
     "name": "stdout",
     "output_type": "stream",
     "text": [
      "99\n",
      "99\n",
      "999\n",
      "99\n"
     ]
    }
   ],
   "source": [
    "for out in [ga, mmc, rhc, sa]:\n",
    "    print out.index.values.max()"
   ]
  },
  {
   "cell_type": "code",
   "execution_count": null,
   "metadata": {},
   "outputs": [],
   "source": []
  }
 ],
 "metadata": {
  "kernelspec": {
   "display_name": "Python 2",
   "language": "python",
   "name": "python2"
  },
  "language_info": {
   "codemirror_mode": {
    "name": "ipython",
    "version": 2
   },
   "file_extension": ".py",
   "mimetype": "text/x-python",
   "name": "python",
   "nbconvert_exporter": "python",
   "pygments_lexer": "ipython2",
   "version": "2.7.15"
  }
 },
 "nbformat": 4,
 "nbformat_minor": 2
}
