{
 "cells": [
  {
   "cell_type": "code",
   "execution_count": 3,
   "metadata": {},
   "outputs": [],
   "source": [
    "import pandas as pd\n",
    "import numpy as np\n",
    "import matplotlib.pyplot as plt\n",
    "%matplotlib inline  "
   ]
  },
  {
   "cell_type": "markdown",
   "metadata": {},
   "source": [
    "### plot f1 score and accuracy"
   ]
  },
  {
   "cell_type": "code",
   "execution_count": 4,
   "metadata": {},
   "outputs": [],
   "source": [
    "opts = [\"GA\", \"RHC\", \"SA\", \"BP\"]\n",
    "params = {\"GA\": \"pop=100, mate=50, mutate=5\",\n",
    "          \"RHC\": \"try=3\",\n",
    "          \"SA\": \"t=100, cooling=0.75\",\n",
    "          \"BP\": \"try=4\"\n",
    "         }\n",
    "validf1 = {}\n",
    "validacc = {}\n",
    "testf1 = {}\n",
    "testacc = {}\n",
    "trainf1 = {}\n",
    "trainacc = {}\n",
    "for opt in opts:\n",
    "    flat = \"flat.%s\" % (opt.lower())\n",
    "    df = pd.read_csv(flat, header=0)\n",
    "    validf1[opt] = df.loc[(df[\"params\"] == params[opt]) & (df[\"tag\"] == \"valid\")].f1.item()\n",
    "    validacc[opt] = df.loc[(df[\"params\"] == params[opt]) & (df[\"tag\"] == \"valid\")].accuracy.item()\n",
    "    testf1[opt] = df.loc[(df[\"params\"] == params[opt]) & (df[\"tag\"] == \"test\")].f1.item()\n",
    "    testacc[opt] = df.loc[(df[\"params\"] == params[opt]) & (df[\"tag\"] == \"test\")].accuracy.item()\n",
    "    trainf1[opt] = df.loc[(df[\"params\"] == params[opt]) & (df[\"tag\"] == \"train\")].f1.item()\n",
    "    trainacc[opt] = df.loc[(df[\"params\"] == params[opt]) & (df[\"tag\"] == \"train\")].accuracy.item()\n"
   ]
  },
  {
   "cell_type": "code",
   "execution_count": 11,
   "metadata": {},
   "outputs": [],
   "source": [
    "    def plot_valid_vs_test(xlabels, vals, legends, ylim, ylabel, figname):\n",
    "        width = 0.8\n",
    "        n = len(vals)\n",
    "        _X = np.arange(len(xlabels))\n",
    "        for i in range(n):\n",
    "            plt.bar(_X - width/2. + i/float(n)*width, vals[i], \n",
    "                        width=width/float(n), align=\"edge\")   \n",
    "            plt.xticks(_X, xlabels)\n",
    "        plt.ylim(ylim[0], ylim[1])\n",
    "        plt.ylabel(ylabel)\n",
    "        plt.legend(legends)\n",
    "        plt.title(\"Train vs Test Performance: \"+ylabel)\n",
    "        plt.savefig(figname)\n",
    "        plt.show()\n",
    "        plt.close()"
   ]
  },
  {
   "cell_type": "code",
   "execution_count": 6,
   "metadata": {},
   "outputs": [],
   "source": [
    "    def setup_plot_2bar(data1, data2, legends, ylim, ylabel, filename):\n",
    "        width=0.8\n",
    "        vals = []\n",
    "\n",
    "        xlabels = sorted(data1.keys())\n",
    "        val1 = []\n",
    "        for xl in xlabels:\n",
    "            val1.append(data1[xl])\n",
    "        val2 = []\n",
    "        for xl in xlabels:\n",
    "            val2.append(data2[xl])\n",
    "        vals = [val1, val2]\n",
    "        plot_valid_vs_test(xlabels, vals, legends, ylim, ylabel, filename)"
   ]
  },
  {
   "cell_type": "code",
   "execution_count": 12,
   "metadata": {},
   "outputs": [
    {
     "data": {
      "image/png": "[encoded data removed]",
      "text/plain": [
       "<Figure size 432x288 with 1 Axes>"
      ]
     },
     "metadata": {
      "needs_background": "light"
     },
     "output_type": "display_data"
    },
    {
     "data": {
      "image/png": "[encoded data removed]",
      "text/plain": [
       "<Figure size 432x288 with 1 Axes>"
      ]
     },
     "metadata": {
      "needs_background": "light"
     },
     "output_type": "display_data"
    }
   ],
   "source": [
    "setup_plot_2bar(trainf1, testf1, ['train','test'], [0, 1.], 'F1 Score', 'ccf1.png')\n",
    "setup_plot_2bar(trainacc, testacc, ['train','test'], [0.9, 1.], 'Accuracy', 'ccaccuracy.png')"
   ]
  },
  {
   "cell_type": "code",
   "execution_count": 8,
   "metadata": {},
   "outputs": [
    {
     "data": {
      "text/plain": [
       "{'BP': 0.954887218,\n",
       " 'GA': 0.36578171090000006,\n",
       " 'RHC': 0.5670103093,\n",
       " 'SA': 0.6134663342}"
      ]
     },
     "execution_count": 8,
     "metadata": {},
     "output_type": "execute_result"
    }
   ],
   "source": [
    "trainf1"
   ]
  },
  {
   "cell_type": "code",
   "execution_count": 9,
   "metadata": {},
   "outputs": [
    {
     "data": {
      "text/plain": [
       "{'BP': 0.8859649123000001,\n",
       " 'GA': 0.3150684932,\n",
       " 'RHC': 0.4430379747,\n",
       " 'SA': 0.5269461078000001}"
      ]
     },
     "execution_count": 9,
     "metadata": {},
     "output_type": "execute_result"
    }
   ],
   "source": [
    "testf1"
   ]
  },
  {
   "cell_type": "code",
   "execution_count": 10,
   "metadata": {},
   "outputs": [
    {
     "data": {
      "text/plain": [
       "{'BP': 0.9956639566,\n",
       " 'GA': 0.9611562781999999,\n",
       " 'RHC': 0.9696476965,\n",
       " 'SA': 0.9719963866}"
      ]
     },
     "execution_count": 10,
     "metadata": {},
     "output_type": "execute_result"
    }
   ],
   "source": [
    "trainacc"
   ]
  },
  {
   "cell_type": "code",
   "execution_count": null,
   "metadata": {},
   "outputs": [],
   "source": []
  },
  {
   "cell_type": "code",
   "execution_count": null,
   "metadata": {},
   "outputs": [],
   "source": []
  }
 ],
 "metadata": {
  "kernelspec": {
   "display_name": "Python 2",
   "language": "python",
   "name": "python2"
  },
  "language_info": {
   "codemirror_mode": {
    "name": "ipython",
    "version": 2
   },
   "file_extension": ".py",
   "mimetype": "text/x-python",
   "name": "python",
   "nbconvert_exporter": "python",
   "pygments_lexer": "ipython2",
   "version": "2.7.15"
  }
 },
 "nbformat": 4,
 "nbformat_minor": 2
}
