{
 "cells": [
  {
   "cell_type": "code",
   "execution_count": 1,
   "metadata": {},
   "outputs": [],
   "source": [
    "import pandas as pd\n",
    "import numpy as np\n",
    "import matplotlib.pyplot as plt\n",
    "%matplotlib inline  "
   ]
  },
  {
   "cell_type": "markdown",
   "metadata": {},
   "source": [
    "### knapsack"
   ]
  },
  {
   "cell_type": "code",
   "execution_count": 2,
   "metadata": {},
   "outputs": [],
   "source": [
    "opt = 'GA'\n",
    "p=100\n",
    "ma=50\n",
    "mu=25\n",
    "cpfile = 'kn/kn-%s-%d-%d-%d.csv' % (opt, p, ma, mu)\n",
    "ga = pd.read_csv(cpfile, names=[\"i\", \"score\", \"elapsed\"])\n",
    "ga[\"p\"] = p\n",
    "ga[\"ma\"] = ma\n",
    "ga[\"mu\"] = mu\n",
    "ga[\"params\"] = \"pop=%d, mate=%d, mutate=%d\" % (p, ma, mu)\n",
    "ga[\"opt\"] = opt"
   ]
  },
  {
   "cell_type": "code",
   "execution_count": 3,
   "metadata": {},
   "outputs": [],
   "source": [
    "opt = 'MMC'\n",
    "s=100\n",
    "k=10\n",
    "cpfile = 'kn/kn-%s-%d-%d.csv' % (opt, s, k)\n",
    "mmc = pd.read_csv(cpfile, names=[\"i\", \"score\", \"elapsed\"])\n",
    "mmc[\"samples\"] = s\n",
    "mmc[\"tokeep\"] = k\n",
    "mmc[\"params\"] = \"samples=%d, tokeep=%d\" % (s, k)\n",
    "mmc[\"opt\"] = \"MIMIC\""
   ]
  },
  {
   "cell_type": "code",
   "execution_count": 4,
   "metadata": {},
   "outputs": [],
   "source": [
    "opt = 'RHC'\n",
    "i=10000\n",
    "t=1\n",
    "cpfile = 'kn/kn-%s-%d-%d.csv' % (opt, i, t)\n",
    "rhc = pd.read_csv(cpfile, names=[\"i\", \"score\", \"elapsed\"])\n",
    "rhc[\"iterations\"] = i\n",
    "rhc[\"try\"] = t\n",
    "rhc[\"params\"] = \"iterations=%d, try=%d\" % (i, t)\n",
    "rhc[\"opt\"] = opt"
   ]
  },
  {
   "cell_type": "code",
   "execution_count": 5,
   "metadata": {},
   "outputs": [],
   "source": [
    "opt = 'SA'\n",
    "t=\"1E10\"\n",
    "c=\"0.75\"\n",
    "cpfile = 'kn/kn-%s-%s-%s.csv' % (opt, t, c)\n",
    "sa = pd.read_csv(cpfile, names=[\"i\", \"score\", \"elapsed\"])\n",
    "sa[\"t\"] = t\n",
    "sa[\"cooling\"] = c\n",
    "sa[\"params\"] = \"t=%s, cooling=%s\" % (t, c)\n",
    "sa[\"opt\"] = opt"
   ]
  },
  {
   "cell_type": "code",
   "execution_count": 6,
   "metadata": {},
   "outputs": [],
   "source": [
    "cp = pd.DataFrame()\n",
    "opt = 'GA'\n",
    "for p in [200, 100]:\n",
    "    for ma in [100, 50, 10]:\n",
    "        for mu in [25, 10]:\n",
    "            cpfile = 'kn/kn-%s-%d-%d-%d.csv' % (opt, p, ma, mu)\n",
    "            tmp = pd.read_csv(cpfile, names=[\"i\", \"score\", \"elapsed\"])\n",
    "            tmp[\"p\"] = p\n",
    "            tmp[\"ma\"] = ma\n",
    "            tmp[\"mu\"] = mu\n",
    "            tmp[\"params\"] = \"pop=%d, mate=%d, mutate=%d\" % (p, ma, mu)\n",
    "            if cp.shape[0] == 0:\n",
    "                cp = tmp.copy(deep=True)\n",
    "            else:\n",
    "                cp = cp.append(tmp)"
   ]
  },
  {
   "cell_type": "code",
   "execution_count": 7,
   "metadata": {},
   "outputs": [],
   "source": [
    "cp = pd.DataFrame()\n",
    "opt = 'MMC'\n",
    "for s in [200, 100]:\n",
    "    #for ma in [100, 50, 10]:\n",
    "        for k in [50, 20, 10]:\n",
    "            cpfile = 'kn/kn-%s-%d-%d.csv' % (opt, s, k)\n",
    "            tmp = pd.read_csv(cpfile, names=[\"i\", \"score\", \"elapsed\"])\n",
    "            tmp[\"samples\"] = s\n",
    "            tmp[\"tokeep\"] = k\n",
    "            tmp[\"params\"] = \"samples=%d, tokeep=%d\" % (s, k)\n",
    "            tmp[\"opt\"] = \"MIMIC\"\n",
    "            if cp.shape[0] == 0:\n",
    "                cp = tmp.copy(deep=True)\n",
    "            else:\n",
    "                cp = cp.append(tmp)"
   ]
  },
  {
   "cell_type": "code",
   "execution_count": 8,
   "metadata": {},
   "outputs": [],
   "source": [
    "cp = pd.DataFrame()\n",
    "opt = 'RHC'\n",
    "for i in [20000, 10000]:\n",
    "    #for ma in [100, 50, 10]:\n",
    "        for t in [1,2,3,4,5]:\n",
    "            cpfile = 'kn/kn-%s-%d-%d.csv' % (opt, i, t)\n",
    "            tmp = pd.read_csv(cpfile, names=[\"i\", \"score\", \"elapsed\"])\n",
    "            tmp[\"iterations\"] = i\n",
    "            tmp[\"try\"] = t\n",
    "            tmp[\"params\"] = \"iterations=%d, try=%d\" % (i, t)\n",
    "            tmp[\"opt\"] = opt\n",
    "            if cp.shape[0] == 0:\n",
    "                cp = tmp.copy(deep=True)\n",
    "            else:\n",
    "                cp = cp.append(tmp)"
   ]
  },
  {
   "cell_type": "code",
   "execution_count": 9,
   "metadata": {},
   "outputs": [],
   "source": [
    "cp = pd.DataFrame()\n",
    "opt = 'SA'\n",
    "for t in [\"1E10\"]:\n",
    "    #for ma in [100, 50, 10]:\n",
    "        for c in [\"0.15\", \"0.35\", \"0.55\", \"0.75\", \"0.95\"]:\n",
    "            cpfile = 'kn/kn-%s-%s-%s.csv' % (opt, t, c)\n",
    "            tmp = pd.read_csv(cpfile, names=[\"i\", \"score\", \"elapsed\"])\n",
    "            tmp[\"t\"] = t\n",
    "            tmp[\"cooling\"] = c\n",
    "            tmp[\"params\"] = \"t=%s, cooling=%s\" % (t, c)\n",
    "            tmp[\"opt\"] = opt\n",
    "            if cp.shape[0] == 0:\n",
    "                cp = tmp.copy(deep=True)\n",
    "            else:\n",
    "                cp = cp.append(tmp)"
   ]
  },
  {
   "cell_type": "code",
   "execution_count": 10,
   "metadata": {},
   "outputs": [
    {
     "data": {
      "text/plain": [
       "params\n",
       "t=1E10, cooling=0.75    985\n",
       "dtype: int64"
      ]
     },
     "execution_count": 10,
     "metadata": {},
     "output_type": "execute_result"
    }
   ],
   "source": [
    "cp.loc[cp[\"score\"] == cp[\"score\"].max(),[\"params\"]].groupby([\"params\"]).size()"
   ]
  },
  {
   "cell_type": "code",
   "execution_count": 11,
   "metadata": {},
   "outputs": [
    {
     "data": {
      "image/png": "[encoded data removed]",
      "text/plain": [
       "<Figure size 432x288 with 1 Axes>"
      ]
     },
     "metadata": {
      "needs_background": "light"
     },
     "output_type": "display_data"
    }
   ],
   "source": [
    "legend = []\n",
    "for out in [ga, mmc, rhc, sa]:\n",
    "    ind = np.array(range(100)) % 10 == 0\n",
    "    x = out.iloc[ind,0]\n",
    "    y = out.iloc[ind,1]\n",
    "    plt.plot(x, y, '.-')\n",
    "    legend.append(out.iloc[0,-1])\n",
    "\n",
    "plt.legend(legend, loc=\"best\")\n",
    "plt.ylabel('score')\n",
    "plt.xlabel('iteration')\n",
    "plt.title('knapsack problem: performance')\n",
    "plt.gcf()\n",
    "plt.savefig('knscore.png')\n",
    "plt.show()"
   ]
  },
  {
   "cell_type": "code",
   "execution_count": 6,
   "metadata": {},
   "outputs": [
    {
     "name": "stdout",
     "output_type": "stream",
     "text": [
      "99\n"
     ]
    }
   ],
   "source": [
    "for out in [ga]:#, mmc, rhc, sa]:\n",
    "    print out.index.values.max()"
   ]
  },
  {
   "cell_type": "code",
   "execution_count": null,
   "metadata": {},
   "outputs": [],
   "source": []
  }
 ],
 "metadata": {
  "kernelspec": {
   "display_name": "Python 2",
   "language": "python",
   "name": "python2"
  },
  "language_info": {
   "codemirror_mode": {
    "name": "ipython",
    "version": 2
   },
   "file_extension": ".py",
   "mimetype": "text/x-python",
   "name": "python",
   "nbconvert_exporter": "python",
   "pygments_lexer": "ipython2",
   "version": "2.7.15"
  }
 },
 "nbformat": 4,
 "nbformat_minor": 2
}
